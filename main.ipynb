{
 "cells": [
  {
   "cell_type": "code",
   "execution_count": 215,
   "id": "initial_id",
   "metadata": {
    "collapsed": true,
    "ExecuteTime": {
     "end_time": "2024-01-27T16:23:19.283027Z",
     "start_time": "2024-01-27T16:23:19.275276Z"
    }
   },
   "outputs": [],
   "source": [
    "import pandas as pd\n",
    "import numpy as np"
   ]
  },
  {
   "cell_type": "code",
   "outputs": [],
   "source": [
    "def rebalance_indexes(\n",
    "        index_indexes: list[str],\n",
    "        index_input_df: pd.DataFrame, \n",
    "        index_asset_cap: int, \n",
    "        index_total_cap: int\n",
    "):\n",
    "    output_df = pd.DataFrame(\n",
    "        columns=[\"Amount\", \"Value\", \"Percentage\"],\n",
    "        index=index_indexes\n",
    "    )\n",
    "    total_market_cap = index_input_df.MarketCap.sum()\n",
    "    \n",
    "    def share_of_market():\n",
    "        indexes_dict = {}.fromkeys(index_indexes)\n",
    "        for key, value in indexes_dict.items():\n",
    "            indexes_dict[key] = index_input_df.MarketCap[key] / total_market_cap\n",
    "        output_df.Percentage = indexes_dict.values()\n",
    "    \n",
    "    def rebalance_and_fill():\n",
    "        nonlocal index_asset_cap\n",
    "        if output_df['Percentage'].max() < index_asset_cap:\n",
    "            return  # No balancing required\n",
    "        if float(index_asset_cap) < 1 / (len(index_indexes)):\n",
    "            output_df.loc[:, 'Percentage'] = 101  # force all values above asset cap\n",
    "            index_asset_cap = 1 / (len(index_indexes))\n",
    "        share_remaining = 1.00\n",
    "        market_cap_remaining = total_market_cap\n",
    "        for index, row in output_df.iterrows():\n",
    "            share: float\n",
    "            if row['Percentage'] > index_asset_cap:\n",
    "                share = index_asset_cap\n",
    "            else:\n",
    "                share = share_remaining * index_input_df.MarketCap[index] / market_cap_remaining\n",
    "            value = share * index_total_cap\n",
    "            output_df.loc[index, 'Percentage'] = share\n",
    "            output_df.loc[index, 'Value'] = value\n",
    "            output_df.loc[index, 'Amount'] = value / index_input_df.Price[index]\n",
    "            share_remaining -= share\n",
    "            market_cap_remaining -= index_input_df.MarketCap[index]\n",
    "    share_of_market()\n",
    "    rebalance_and_fill()\n",
    "    return output_df"
   ],
   "metadata": {
    "collapsed": false,
    "ExecuteTime": {
     "end_time": "2024-01-27T16:23:19.306918Z",
     "start_time": "2024-01-27T16:23:19.282336Z"
    }
   },
   "id": "bae80337cbeee54b",
   "execution_count": 216
  },
  {
   "cell_type": "markdown",
   "source": [
    "# Example 1"
   ],
   "metadata": {
    "collapsed": false
   },
   "id": "2e5d4e1165f80ceb"
  },
  {
   "cell_type": "code",
   "outputs": [
    {
     "name": "stdout",
     "output_type": "stream",
     "text": [
      "Index Data: \n",
      "      MarketCap  Price\n",
      "BTC    20000.0   50.0\n",
      "ETH    10000.0   25.0\n",
      "LTC     5000.0   10.0\n",
      "\n",
      "Asset capitalisation: 0.5\n",
      "Total capitalisation: 10000\n",
      "\n",
      "Balanced indexes:\n",
      "         Amount        Value  Percentage\n",
      "BTC       100.0       5000.0    0.500000\n",
      "ETH  133.333333  3333.333333    0.333333\n",
      "LTC  166.666667  1666.666667    0.166667\n"
     ]
    }
   ],
   "source": [
    "asset_cap = 0.5\n",
    "total_cap = 10000\n",
    "\n",
    "indexes = ['BTC', 'ETH', 'LTC']\n",
    "\n",
    "input_dict = {\n",
    "    \"MarketCap\": [\n",
    "        20000, 10000, 5000\n",
    "    ],\n",
    "    \"Price\": [\n",
    "        50, 25, 10\n",
    "    ]\n",
    "}\n",
    "input_df = pd.DataFrame(\n",
    "    data=input_dict,\n",
    "    dtype=np.float64,\n",
    "    index=indexes\n",
    ")\n",
    "\n",
    "print(f\"Index Data: \\n {input_df}\\n\")\n",
    "print(f\"Asset capitalisation: {asset_cap}\")\n",
    "print(f\"Total capitalisation: {total_cap}\\n\")\n",
    "\n",
    "results = rebalance_indexes(\n",
    "    index_indexes=indexes,\n",
    "    index_input_df=input_df,\n",
    "    index_asset_cap=asset_cap,\n",
    "    index_total_cap=total_cap\n",
    ")\n",
    "print(\"Balanced indexes:\")\n",
    "print(results)"
   ],
   "metadata": {
    "collapsed": false,
    "ExecuteTime": {
     "end_time": "2024-01-27T16:23:19.312162Z",
     "start_time": "2024-01-27T16:23:19.307473Z"
    }
   },
   "id": "796bf7c2a9e61309",
   "execution_count": 217
  },
  {
   "cell_type": "markdown",
   "source": [
    "## Test results"
   ],
   "metadata": {
    "collapsed": false
   },
   "id": "c9ce324e68c4f995"
  },
  {
   "cell_type": "code",
   "outputs": [],
   "source": [
    "calculated_total_cap = round(results.Value.sum())\n",
    "assert calculated_total_cap == total_cap, \\\n",
    "    \"Total cap does not not match expected value:\\n\" \\\n",
    "    f\"\\t expected: {total_cap}, got {calculated_total_cap}\"\n",
    "assert results.Percentage.max() <= asset_cap"
   ],
   "metadata": {
    "collapsed": false,
    "ExecuteTime": {
     "end_time": "2024-01-27T16:23:19.319800Z",
     "start_time": "2024-01-27T16:23:19.309898Z"
    }
   },
   "id": "a98472c48fdc9ba9",
   "execution_count": 218
  },
  {
   "cell_type": "markdown",
   "source": [
    "# Example 2"
   ],
   "metadata": {
    "collapsed": false
   },
   "id": "9320edf961de08"
  },
  {
   "cell_type": "code",
   "outputs": [
    {
     "name": "stdout",
     "output_type": "stream",
     "text": [
      "Index Data: \n",
      "      MarketCap  Price\n",
      "BTC    20000.0   50.0\n",
      "ETH    10000.0   25.0\n",
      "LTC     5000.0   10.0\n",
      "\n",
      "Asset capitalisation: 0.1\n",
      "Total capitalisation: 10000\n",
      "\n",
      "Balanced indexes:\n",
      "         Amount        Value  Percentage\n",
      "BTC   66.666667  3333.333333    0.333333\n",
      "ETH  133.333333  3333.333333    0.333333\n",
      "LTC  333.333333  3333.333333    0.333333\n"
     ]
    }
   ],
   "source": [
    "asset_cap = 0.1\n",
    "total_cap = 10000\n",
    "\n",
    "indexes = ['BTC', 'ETH', 'LTC']\n",
    "\n",
    "input_dict = {\n",
    "    \"MarketCap\": [\n",
    "        20000, 10000, 5000\n",
    "    ],\n",
    "    \"Price\": [\n",
    "        50, 25, 10\n",
    "    ]\n",
    "}\n",
    "input_df = pd.DataFrame(\n",
    "    data=input_dict,\n",
    "    dtype=np.float64,\n",
    "    index=indexes\n",
    ")\n",
    "\n",
    "print(f\"Index Data: \\n {input_df}\\n\")\n",
    "print(f\"Asset capitalisation: {asset_cap}\")\n",
    "print(f\"Total capitalisation: {total_cap}\\n\")\n",
    "\n",
    "results = rebalance_indexes(\n",
    "    index_indexes=indexes,\n",
    "    index_input_df=input_df,\n",
    "    index_asset_cap=asset_cap,\n",
    "    index_total_cap=total_cap\n",
    ")\n",
    "print(\"Balanced indexes:\")\n",
    "print(results)"
   ],
   "metadata": {
    "collapsed": false,
    "ExecuteTime": {
     "end_time": "2024-01-27T16:23:19.320975Z",
     "start_time": "2024-01-27T16:23:19.318596Z"
    }
   },
   "id": "1a0953c8f356bb30",
   "execution_count": 219
  },
  {
   "cell_type": "markdown",
   "source": [
    "## Test results"
   ],
   "metadata": {
    "collapsed": false
   },
   "id": "73782b74b85ac15d"
  },
  {
   "cell_type": "code",
   "outputs": [],
   "source": [
    "calculated_total_cap = round(results.Value.sum())\n",
    "assert calculated_total_cap == total_cap, \\\n",
    "    \"Total cap does not not match expected value:\\n\" \\\n",
    "    f\"\\t expected: {total_cap}, got {calculated_total_cap}\"\n",
    "assert results.Percentage.max() <= max(asset_cap, 1 / (len(indexes))), \\\n",
    "    f\"Asset cap exceeded: max percentage is {results.Percentage.max()}\""
   ],
   "metadata": {
    "collapsed": false,
    "ExecuteTime": {
     "end_time": "2024-01-27T16:23:19.325325Z",
     "start_time": "2024-01-27T16:23:19.321417Z"
    }
   },
   "id": "154171a9dd97fb13",
   "execution_count": 220
  }
 ],
 "metadata": {
  "kernelspec": {
   "display_name": "Python 3",
   "language": "python",
   "name": "python3"
  },
  "language_info": {
   "codemirror_mode": {
    "name": "ipython",
    "version": 2
   },
   "file_extension": ".py",
   "mimetype": "text/x-python",
   "name": "python",
   "nbconvert_exporter": "python",
   "pygments_lexer": "ipython2",
   "version": "2.7.6"
  }
 },
 "nbformat": 4,
 "nbformat_minor": 5
}
