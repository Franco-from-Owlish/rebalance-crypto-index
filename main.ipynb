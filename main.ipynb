{
 "cells": [
  {
   "cell_type": "code",
   "execution_count": 9,
   "id": "initial_id",
   "metadata": {
    "ExecuteTime": {
     "end_time": "2024-01-27T16:46:22.090571Z",
     "start_time": "2024-01-27T16:46:22.081219Z"
    }
   },
   "outputs": [],
   "source": [
    "import pandas as pd\n",
    "import numpy as np"
   ]
  },
  {
   "cell_type": "code",
   "execution_count": 10,
   "id": "bae80337cbeee54b",
   "metadata": {
    "collapsed": false,
    "ExecuteTime": {
     "end_time": "2024-01-27T16:46:22.102046Z",
     "start_time": "2024-01-27T16:46:22.099023Z"
    }
   },
   "outputs": [],
   "source": [
    "def rebalance_indexes(\n",
    "        index_indexes: list[str],\n",
    "        index_input_df: pd.DataFrame, \n",
    "        index_asset_cap: int, \n",
    "        index_total_cap: int\n",
    "):\n",
    "    output_df = pd.DataFrame(\n",
    "        columns=[\"Amount\", \"Value\", \"Percentage\"],\n",
    "        index=index_indexes\n",
    "    )\n",
    "    total_market_cap = index_input_df.MarketCap.sum()\n",
    "    \n",
    "    def share_of_market():\n",
    "        indexes_dict = {}.fromkeys(index_indexes)\n",
    "        for key, value in indexes_dict.items():\n",
    "            indexes_dict[key] = index_input_df.MarketCap[key] / total_market_cap\n",
    "        output_df.Percentage = indexes_dict.values()\n",
    "    \n",
    "    def rebalance_and_fill():\n",
    "        nonlocal index_asset_cap\n",
    "        if float(index_asset_cap) < 1 / (len(index_indexes)):\n",
    "            output_df.loc[:, 'Percentage'] = 101  # force all values above asset cap\n",
    "            index_asset_cap = 1 / (len(index_indexes))\n",
    "        share_remaining = 1.00\n",
    "        market_cap_remaining = total_market_cap\n",
    "        for index, row in output_df.iterrows():\n",
    "            share: float\n",
    "            if row['Percentage'] > index_asset_cap:\n",
    "                share = index_asset_cap\n",
    "            else:\n",
    "                share = share_remaining * index_input_df.MarketCap[index] / market_cap_remaining\n",
    "            value = share * index_total_cap\n",
    "            output_df.loc[index, 'Percentage'] = share\n",
    "            output_df.loc[index, 'Value'] = value\n",
    "            output_df.loc[index, 'Amount'] = value / index_input_df.Price[index]\n",
    "            share_remaining -= share\n",
    "            market_cap_remaining -= index_input_df.MarketCap[index]\n",
    "    share_of_market()\n",
    "    rebalance_and_fill()\n",
    "    return output_df"
   ]
  },
  {
   "cell_type": "markdown",
   "id": "90e10a36bc9fb4a8",
   "metadata": {
    "collapsed": false
   },
   "source": [
    "# Sanity check"
   ]
  },
  {
   "cell_type": "code",
   "execution_count": 11,
   "id": "705ee651ededd69e",
   "metadata": {
    "collapsed": false,
    "ExecuteTime": {
     "end_time": "2024-01-27T16:46:22.128722Z",
     "start_time": "2024-01-27T16:46:22.123519Z"
    }
   },
   "outputs": [
    {
     "name": "stdout",
     "output_type": "stream",
     "text": [
      "Index Data: \n",
      "      MarketCap  Price\n",
      "BTC    20000.0   50.0\n",
      "ETH    10000.0   25.0\n",
      "LTC     5000.0   10.0\n",
      "\n",
      "Asset capitalisation: 1\n",
      "Total capitalisation: 10000\n",
      "\n",
      "Balanced indexes:\n",
      "         Amount        Value  Percentage\n",
      "BTC  114.285714  5714.285714    0.571429\n",
      "ETH  114.285714  2857.142857    0.285714\n",
      "LTC  142.857143  1428.571429    0.142857\n"
     ]
    }
   ],
   "source": [
    "asset_cap = 1\n",
    "total_cap = 10000\n",
    "\n",
    "indexes = ['BTC', 'ETH', 'LTC']\n",
    "\n",
    "input_dict = {\n",
    "    \"MarketCap\": [\n",
    "        20000, 10000, 5000\n",
    "    ],\n",
    "    \"Price\": [\n",
    "        50, 25, 10\n",
    "    ]\n",
    "}\n",
    "input_df = pd.DataFrame(\n",
    "    data=input_dict,\n",
    "    dtype=np.float64,\n",
    "    index=indexes\n",
    ")\n",
    "\n",
    "print(f\"Index Data: \\n {input_df}\\n\")\n",
    "print(f\"Asset capitalisation: {asset_cap}\")\n",
    "print(f\"Total capitalisation: {total_cap}\\n\")\n",
    "\n",
    "results = rebalance_indexes(\n",
    "    index_indexes=indexes,\n",
    "    index_input_df=input_df,\n",
    "    index_asset_cap=asset_cap,\n",
    "    index_total_cap=total_cap\n",
    ")\n",
    "print(\"Balanced indexes:\")\n",
    "print(results)"
   ]
  },
  {
   "cell_type": "markdown",
   "id": "c2809ccac3fe0738",
   "metadata": {
    "collapsed": false
   },
   "source": [
    "## Test results"
   ]
  },
  {
   "cell_type": "code",
   "execution_count": 12,
   "id": "f71133134e20b9a",
   "metadata": {
    "collapsed": false,
    "ExecuteTime": {
     "end_time": "2024-01-27T16:46:22.129045Z",
     "start_time": "2024-01-27T16:46:22.126955Z"
    }
   },
   "outputs": [],
   "source": [
    "calculated_total_cap = round(results.Value.sum())\n",
    "assert calculated_total_cap == total_cap, \\\n",
    "    \"Total cap does not not match expected value:\\n\" \\\n",
    "    f\"\\t expected: {total_cap}, got {calculated_total_cap}\"\n",
    "assert results.Percentage.max() <= asset_cap"
   ]
  },
  {
   "cell_type": "markdown",
   "id": "38b24ec6b1666826",
   "metadata": {
    "collapsed": false
   },
   "source": [
    "# Example 1"
   ]
  },
  {
   "cell_type": "code",
   "execution_count": 13,
   "id": "4f703aa7c9253881",
   "metadata": {
    "collapsed": false,
    "ExecuteTime": {
     "end_time": "2024-01-27T16:46:22.166487Z",
     "start_time": "2024-01-27T16:46:22.132512Z"
    }
   },
   "outputs": [
    {
     "name": "stdout",
     "output_type": "stream",
     "text": [
      "Index Data: \n",
      "      MarketCap  Price\n",
      "BTC    20000.0   50.0\n",
      "ETH    10000.0   25.0\n",
      "LTC     5000.0   10.0\n",
      "\n",
      "Asset capitalisation: 0.5\n",
      "Total capitalisation: 10000\n",
      "\n",
      "Balanced indexes:\n",
      "         Amount        Value  Percentage\n",
      "BTC       100.0       5000.0    0.500000\n",
      "ETH  133.333333  3333.333333    0.333333\n",
      "LTC  166.666667  1666.666667    0.166667\n"
     ]
    }
   ],
   "source": [
    "asset_cap = 0.5\n",
    "total_cap = 10000\n",
    "\n",
    "indexes = ['BTC', 'ETH', 'LTC']\n",
    "\n",
    "input_dict = {\n",
    "    \"MarketCap\": [\n",
    "        20000, 10000, 5000\n",
    "    ],\n",
    "    \"Price\": [\n",
    "        50, 25, 10\n",
    "    ]\n",
    "}\n",
    "input_df = pd.DataFrame(\n",
    "    data=input_dict,\n",
    "    dtype=np.float64,\n",
    "    index=indexes\n",
    ")\n",
    "\n",
    "print(f\"Index Data: \\n {input_df}\\n\")\n",
    "print(f\"Asset capitalisation: {asset_cap}\")\n",
    "print(f\"Total capitalisation: {total_cap}\\n\")\n",
    "\n",
    "results = rebalance_indexes(\n",
    "    index_indexes=indexes,\n",
    "    index_input_df=input_df,\n",
    "    index_asset_cap=asset_cap,\n",
    "    index_total_cap=total_cap\n",
    ")\n",
    "print(\"Balanced indexes:\")\n",
    "print(results)"
   ]
  },
  {
   "cell_type": "markdown",
   "id": "b83b7cb1568809a4",
   "metadata": {
    "collapsed": false
   },
   "source": [
    "## Test results"
   ]
  },
  {
   "cell_type": "code",
   "execution_count": 14,
   "id": "2aed46fd7f683846",
   "metadata": {
    "collapsed": false,
    "ExecuteTime": {
     "end_time": "2024-01-27T16:46:22.167344Z",
     "start_time": "2024-01-27T16:46:22.135338Z"
    }
   },
   "outputs": [],
   "source": [
    "calculated_total_cap = round(results.Value.sum())\n",
    "assert calculated_total_cap == total_cap, \\\n",
    "    \"Total cap does not not match expected value:\\n\" \\\n",
    "    f\"\\t expected: {total_cap}, got {calculated_total_cap}\"\n",
    "assert results.Percentage.max() <= asset_cap"
   ]
  },
  {
   "cell_type": "markdown",
   "id": "9320edf961de08",
   "metadata": {
    "collapsed": false
   },
   "source": [
    "# Example 2"
   ]
  },
  {
   "cell_type": "code",
   "execution_count": 15,
   "id": "1a0953c8f356bb30",
   "metadata": {
    "collapsed": false,
    "ExecuteTime": {
     "end_time": "2024-01-27T16:46:22.167624Z",
     "start_time": "2024-01-27T16:46:22.144336Z"
    }
   },
   "outputs": [
    {
     "name": "stdout",
     "output_type": "stream",
     "text": [
      "Index Data: \n",
      "      MarketCap  Price\n",
      "BTC    20000.0   50.0\n",
      "ETH    10000.0   25.0\n",
      "LTC     5000.0   10.0\n",
      "\n",
      "Asset capitalisation: 0.1\n",
      "Total capitalisation: 10000\n",
      "\n",
      "Balanced indexes:\n",
      "         Amount        Value  Percentage\n",
      "BTC   66.666667  3333.333333    0.333333\n",
      "ETH  133.333333  3333.333333    0.333333\n",
      "LTC  333.333333  3333.333333    0.333333\n"
     ]
    }
   ],
   "source": [
    "asset_cap = 0.1\n",
    "total_cap = 10000\n",
    "\n",
    "indexes = ['BTC', 'ETH', 'LTC']\n",
    "\n",
    "input_dict = {\n",
    "    \"MarketCap\": [\n",
    "        20000, 10000, 5000\n",
    "    ],\n",
    "    \"Price\": [\n",
    "        50, 25, 10\n",
    "    ]\n",
    "}\n",
    "input_df = pd.DataFrame(\n",
    "    data=input_dict,\n",
    "    dtype=np.float64,\n",
    "    index=indexes\n",
    ")\n",
    "\n",
    "print(f\"Index Data: \\n {input_df}\\n\")\n",
    "print(f\"Asset capitalisation: {asset_cap}\")\n",
    "print(f\"Total capitalisation: {total_cap}\\n\")\n",
    "\n",
    "results = rebalance_indexes(\n",
    "    index_indexes=indexes,\n",
    "    index_input_df=input_df,\n",
    "    index_asset_cap=asset_cap,\n",
    "    index_total_cap=total_cap\n",
    ")\n",
    "print(\"Balanced indexes:\")\n",
    "print(results)"
   ]
  },
  {
   "cell_type": "markdown",
   "id": "73782b74b85ac15d",
   "metadata": {
    "collapsed": false
   },
   "source": [
    "## Test results"
   ]
  },
  {
   "cell_type": "code",
   "execution_count": 16,
   "id": "154171a9dd97fb13",
   "metadata": {
    "collapsed": false,
    "ExecuteTime": {
     "end_time": "2024-01-27T16:46:22.167770Z",
     "start_time": "2024-01-27T16:46:22.147816Z"
    }
   },
   "outputs": [],
   "source": [
    "calculated_total_cap = round(results.Value.sum())\n",
    "assert calculated_total_cap == total_cap, \\\n",
    "    \"Total cap does not not match expected value:\\n\" \\\n",
    "    f\"\\t expected: {total_cap}, got {calculated_total_cap}\"\n",
    "assert results.Percentage.max() <= max(asset_cap, 1 / (len(indexes))), \\\n",
    "    f\"Asset cap exceeded: max percentage is {results.Percentage.max()}\""
   ]
  }
 ],
 "metadata": {
  "kernelspec": {
   "display_name": "Python 3 (ipykernel)",
   "language": "python",
   "name": "python3"
  },
  "language_info": {
   "codemirror_mode": {
    "name": "ipython",
    "version": 3
   },
   "file_extension": ".py",
   "mimetype": "text/x-python",
   "name": "python",
   "nbconvert_exporter": "python",
   "pygments_lexer": "ipython3",
   "version": "3.11.7"
  }
 },
 "nbformat": 4,
 "nbformat_minor": 5
}
